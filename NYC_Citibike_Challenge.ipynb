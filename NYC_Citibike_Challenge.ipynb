{
 "cells": [
  {
   "cell_type": "markdown",
   "source": [
    "## Read trip data into panda"
   ],
   "metadata": {
    "collapsed": false
   }
  },
  {
   "cell_type": "code",
   "execution_count": 1,
   "outputs": [
    {
     "data": {
      "text/plain": "   tripduration                 starttime                  stoptime  \\\n0           393  2019-08-01 00:00:01.4680  2019-08-01 00:06:35.3780   \n1           627  2019-08-01 00:00:01.9290  2019-08-01 00:10:29.7840   \n2          1132  2019-08-01 00:00:04.0480  2019-08-01 00:18:56.1650   \n3          1780  2019-08-01 00:00:04.1630  2019-08-01 00:29:44.7940   \n4          1517  2019-08-01 00:00:05.4580  2019-08-01 00:25:23.4550   \n\n   start station id              start station name  start station latitude  \\\n0             531.0          Forsyth St & Broome St               40.718939   \n1             274.0  Lafayette Ave & Fort Greene Pl               40.686919   \n2            2000.0        Front St & Washington St               40.702551   \n3             479.0                 9 Ave & W 45 St               40.760193   \n4            3312.0                 1 Ave & E 94 St               40.781721   \n\n   start station longitude  end station id            end station name  \\\n0               -73.992663           408.0       Market St & Cherry St   \n1               -73.976682          3409.0        Bergen St & Smith St   \n2               -73.989402          3388.0     President St & Henry St   \n3               -73.991255           473.0  Rivington St & Chrystie St   \n4               -73.945940          3312.0             1 Ave & E 94 St   \n\n   end station latitude  end station longitude  bikeid    usertype  \\\n0             40.710762             -73.994004   35305  Subscriber   \n1             40.686744             -73.990632   38822  Subscriber   \n2             40.682800             -73.999904   18373  Subscriber   \n3             40.721101             -73.991925   25002  Subscriber   \n4             40.781721             -73.945940   31198  Subscriber   \n\n   birth year  gender  \n0        1996       2  \n1        1998       2  \n2        1988       1  \n3        1988       1  \n4        1965       2  ",
      "text/html": "<div>\n<style scoped>\n    .dataframe tbody tr th:only-of-type {\n        vertical-align: middle;\n    }\n\n    .dataframe tbody tr th {\n        vertical-align: top;\n    }\n\n    .dataframe thead th {\n        text-align: right;\n    }\n</style>\n<table border=\"1\" class=\"dataframe\">\n  <thead>\n    <tr style=\"text-align: right;\">\n      <th></th>\n      <th>tripduration</th>\n      <th>starttime</th>\n      <th>stoptime</th>\n      <th>start station id</th>\n      <th>start station name</th>\n      <th>start station latitude</th>\n      <th>start station longitude</th>\n      <th>end station id</th>\n      <th>end station name</th>\n      <th>end station latitude</th>\n      <th>end station longitude</th>\n      <th>bikeid</th>\n      <th>usertype</th>\n      <th>birth year</th>\n      <th>gender</th>\n    </tr>\n  </thead>\n  <tbody>\n    <tr>\n      <th>0</th>\n      <td>393</td>\n      <td>2019-08-01 00:00:01.4680</td>\n      <td>2019-08-01 00:06:35.3780</td>\n      <td>531.0</td>\n      <td>Forsyth St &amp; Broome St</td>\n      <td>40.718939</td>\n      <td>-73.992663</td>\n      <td>408.0</td>\n      <td>Market St &amp; Cherry St</td>\n      <td>40.710762</td>\n      <td>-73.994004</td>\n      <td>35305</td>\n      <td>Subscriber</td>\n      <td>1996</td>\n      <td>2</td>\n    </tr>\n    <tr>\n      <th>1</th>\n      <td>627</td>\n      <td>2019-08-01 00:00:01.9290</td>\n      <td>2019-08-01 00:10:29.7840</td>\n      <td>274.0</td>\n      <td>Lafayette Ave &amp; Fort Greene Pl</td>\n      <td>40.686919</td>\n      <td>-73.976682</td>\n      <td>3409.0</td>\n      <td>Bergen St &amp; Smith St</td>\n      <td>40.686744</td>\n      <td>-73.990632</td>\n      <td>38822</td>\n      <td>Subscriber</td>\n      <td>1998</td>\n      <td>2</td>\n    </tr>\n    <tr>\n      <th>2</th>\n      <td>1132</td>\n      <td>2019-08-01 00:00:04.0480</td>\n      <td>2019-08-01 00:18:56.1650</td>\n      <td>2000.0</td>\n      <td>Front St &amp; Washington St</td>\n      <td>40.702551</td>\n      <td>-73.989402</td>\n      <td>3388.0</td>\n      <td>President St &amp; Henry St</td>\n      <td>40.682800</td>\n      <td>-73.999904</td>\n      <td>18373</td>\n      <td>Subscriber</td>\n      <td>1988</td>\n      <td>1</td>\n    </tr>\n    <tr>\n      <th>3</th>\n      <td>1780</td>\n      <td>2019-08-01 00:00:04.1630</td>\n      <td>2019-08-01 00:29:44.7940</td>\n      <td>479.0</td>\n      <td>9 Ave &amp; W 45 St</td>\n      <td>40.760193</td>\n      <td>-73.991255</td>\n      <td>473.0</td>\n      <td>Rivington St &amp; Chrystie St</td>\n      <td>40.721101</td>\n      <td>-73.991925</td>\n      <td>25002</td>\n      <td>Subscriber</td>\n      <td>1988</td>\n      <td>1</td>\n    </tr>\n    <tr>\n      <th>4</th>\n      <td>1517</td>\n      <td>2019-08-01 00:00:05.4580</td>\n      <td>2019-08-01 00:25:23.4550</td>\n      <td>3312.0</td>\n      <td>1 Ave &amp; E 94 St</td>\n      <td>40.781721</td>\n      <td>-73.945940</td>\n      <td>3312.0</td>\n      <td>1 Ave &amp; E 94 St</td>\n      <td>40.781721</td>\n      <td>-73.945940</td>\n      <td>31198</td>\n      <td>Subscriber</td>\n      <td>1965</td>\n      <td>2</td>\n    </tr>\n  </tbody>\n</table>\n</div>"
     },
     "execution_count": 1,
     "metadata": {},
     "output_type": "execute_result"
    }
   ],
   "source": [
    "import pandas as pd\n",
    "\n",
    "df = pd.read_csv('data/201908-citibike-tripdata_original.csv')\n",
    "\n",
    "df.head()"
   ],
   "metadata": {
    "collapsed": false
   }
  },
  {
   "cell_type": "code",
   "execution_count": 2,
   "outputs": [
    {
     "data": {
      "text/plain": "tripduration                 int64\nstarttime                   object\nstoptime                    object\nstart station id           float64\nstart station name          object\nstart station latitude     float64\nstart station longitude    float64\nend station id             float64\nend station name            object\nend station latitude       float64\nend station longitude      float64\nbikeid                       int64\nusertype                    object\nbirth year                   int64\ngender                       int64\ndtype: object"
     },
     "execution_count": 2,
     "metadata": {},
     "output_type": "execute_result"
    }
   ],
   "source": [
    "### Check datatypes\n",
    "df.dtypes"
   ],
   "metadata": {
    "collapsed": false
   }
  },
  {
   "cell_type": "markdown",
   "source": [
    "## Create new column to hold trip duration by minutes"
   ],
   "metadata": {
    "collapsed": false
   }
  },
  {
   "cell_type": "code",
   "execution_count": 3,
   "outputs": [],
   "source": [
    "df['tripduration_min'] = pd.to_datetime(df['tripduration'], unit='s')"
   ],
   "metadata": {
    "collapsed": false
   }
  },
  {
   "cell_type": "code",
   "execution_count": 4,
   "outputs": [
    {
     "data": {
      "text/plain": "   tripduration                 starttime                  stoptime  \\\n0           393  2019-08-01 00:00:01.4680  2019-08-01 00:06:35.3780   \n1           627  2019-08-01 00:00:01.9290  2019-08-01 00:10:29.7840   \n2          1132  2019-08-01 00:00:04.0480  2019-08-01 00:18:56.1650   \n3          1780  2019-08-01 00:00:04.1630  2019-08-01 00:29:44.7940   \n4          1517  2019-08-01 00:00:05.4580  2019-08-01 00:25:23.4550   \n\n   start station id              start station name  start station latitude  \\\n0             531.0          Forsyth St & Broome St               40.718939   \n1             274.0  Lafayette Ave & Fort Greene Pl               40.686919   \n2            2000.0        Front St & Washington St               40.702551   \n3             479.0                 9 Ave & W 45 St               40.760193   \n4            3312.0                 1 Ave & E 94 St               40.781721   \n\n   start station longitude  end station id            end station name  \\\n0               -73.992663           408.0       Market St & Cherry St   \n1               -73.976682          3409.0        Bergen St & Smith St   \n2               -73.989402          3388.0     President St & Henry St   \n3               -73.991255           473.0  Rivington St & Chrystie St   \n4               -73.945940          3312.0             1 Ave & E 94 St   \n\n   end station latitude  end station longitude  bikeid    usertype  \\\n0             40.710762             -73.994004   35305  Subscriber   \n1             40.686744             -73.990632   38822  Subscriber   \n2             40.682800             -73.999904   18373  Subscriber   \n3             40.721101             -73.991925   25002  Subscriber   \n4             40.781721             -73.945940   31198  Subscriber   \n\n   birth year  gender    tripduration_min  \n0        1996       2 1970-01-01 00:06:33  \n1        1998       2 1970-01-01 00:10:27  \n2        1988       1 1970-01-01 00:18:52  \n3        1988       1 1970-01-01 00:29:40  \n4        1965       2 1970-01-01 00:25:17  ",
      "text/html": "<div>\n<style scoped>\n    .dataframe tbody tr th:only-of-type {\n        vertical-align: middle;\n    }\n\n    .dataframe tbody tr th {\n        vertical-align: top;\n    }\n\n    .dataframe thead th {\n        text-align: right;\n    }\n</style>\n<table border=\"1\" class=\"dataframe\">\n  <thead>\n    <tr style=\"text-align: right;\">\n      <th></th>\n      <th>tripduration</th>\n      <th>starttime</th>\n      <th>stoptime</th>\n      <th>start station id</th>\n      <th>start station name</th>\n      <th>start station latitude</th>\n      <th>start station longitude</th>\n      <th>end station id</th>\n      <th>end station name</th>\n      <th>end station latitude</th>\n      <th>end station longitude</th>\n      <th>bikeid</th>\n      <th>usertype</th>\n      <th>birth year</th>\n      <th>gender</th>\n      <th>tripduration_min</th>\n    </tr>\n  </thead>\n  <tbody>\n    <tr>\n      <th>0</th>\n      <td>393</td>\n      <td>2019-08-01 00:00:01.4680</td>\n      <td>2019-08-01 00:06:35.3780</td>\n      <td>531.0</td>\n      <td>Forsyth St &amp; Broome St</td>\n      <td>40.718939</td>\n      <td>-73.992663</td>\n      <td>408.0</td>\n      <td>Market St &amp; Cherry St</td>\n      <td>40.710762</td>\n      <td>-73.994004</td>\n      <td>35305</td>\n      <td>Subscriber</td>\n      <td>1996</td>\n      <td>2</td>\n      <td>1970-01-01 00:06:33</td>\n    </tr>\n    <tr>\n      <th>1</th>\n      <td>627</td>\n      <td>2019-08-01 00:00:01.9290</td>\n      <td>2019-08-01 00:10:29.7840</td>\n      <td>274.0</td>\n      <td>Lafayette Ave &amp; Fort Greene Pl</td>\n      <td>40.686919</td>\n      <td>-73.976682</td>\n      <td>3409.0</td>\n      <td>Bergen St &amp; Smith St</td>\n      <td>40.686744</td>\n      <td>-73.990632</td>\n      <td>38822</td>\n      <td>Subscriber</td>\n      <td>1998</td>\n      <td>2</td>\n      <td>1970-01-01 00:10:27</td>\n    </tr>\n    <tr>\n      <th>2</th>\n      <td>1132</td>\n      <td>2019-08-01 00:00:04.0480</td>\n      <td>2019-08-01 00:18:56.1650</td>\n      <td>2000.0</td>\n      <td>Front St &amp; Washington St</td>\n      <td>40.702551</td>\n      <td>-73.989402</td>\n      <td>3388.0</td>\n      <td>President St &amp; Henry St</td>\n      <td>40.682800</td>\n      <td>-73.999904</td>\n      <td>18373</td>\n      <td>Subscriber</td>\n      <td>1988</td>\n      <td>1</td>\n      <td>1970-01-01 00:18:52</td>\n    </tr>\n    <tr>\n      <th>3</th>\n      <td>1780</td>\n      <td>2019-08-01 00:00:04.1630</td>\n      <td>2019-08-01 00:29:44.7940</td>\n      <td>479.0</td>\n      <td>9 Ave &amp; W 45 St</td>\n      <td>40.760193</td>\n      <td>-73.991255</td>\n      <td>473.0</td>\n      <td>Rivington St &amp; Chrystie St</td>\n      <td>40.721101</td>\n      <td>-73.991925</td>\n      <td>25002</td>\n      <td>Subscriber</td>\n      <td>1988</td>\n      <td>1</td>\n      <td>1970-01-01 00:29:40</td>\n    </tr>\n    <tr>\n      <th>4</th>\n      <td>1517</td>\n      <td>2019-08-01 00:00:05.4580</td>\n      <td>2019-08-01 00:25:23.4550</td>\n      <td>3312.0</td>\n      <td>1 Ave &amp; E 94 St</td>\n      <td>40.781721</td>\n      <td>-73.945940</td>\n      <td>3312.0</td>\n      <td>1 Ave &amp; E 94 St</td>\n      <td>40.781721</td>\n      <td>-73.945940</td>\n      <td>31198</td>\n      <td>Subscriber</td>\n      <td>1965</td>\n      <td>2</td>\n      <td>1970-01-01 00:25:17</td>\n    </tr>\n  </tbody>\n</table>\n</div>"
     },
     "execution_count": 4,
     "metadata": {},
     "output_type": "execute_result"
    }
   ],
   "source": [
    "df.head()"
   ],
   "metadata": {
    "collapsed": false
   }
  },
  {
   "cell_type": "markdown",
   "source": [
    "### Recheck data type"
   ],
   "metadata": {
    "collapsed": false
   }
  },
  {
   "cell_type": "code",
   "execution_count": 5,
   "outputs": [
    {
     "data": {
      "text/plain": "tripduration                        int64\nstarttime                          object\nstoptime                           object\nstart station id                  float64\nstart station name                 object\nstart station latitude            float64\nstart station longitude           float64\nend station id                    float64\nend station name                   object\nend station latitude              float64\nend station longitude             float64\nbikeid                              int64\nusertype                           object\nbirth year                          int64\ngender                              int64\ntripduration_min           datetime64[ns]\ndtype: object"
     },
     "execution_count": 5,
     "metadata": {},
     "output_type": "execute_result"
    }
   ],
   "source": [
    "df.dtypes"
   ],
   "metadata": {
    "collapsed": false
   }
  },
  {
   "cell_type": "markdown",
   "source": [
    "### Export out as new file without index"
   ],
   "metadata": {
    "collapsed": false
   }
  },
  {
   "cell_type": "code",
   "execution_count": 6,
   "outputs": [],
   "source": [
    "df.to_csv('data/201908-citibike-tripdata.csv', index=False)"
   ],
   "metadata": {
    "collapsed": false
   }
  },
  {
   "cell_type": "code",
   "execution_count": 7,
   "outputs": [],
   "source": [
    "df.head(100).to_csv('data/201908-citibike-tripdata_github_sample.csv',index=False)"
   ],
   "metadata": {
    "collapsed": false
   }
  }
 ],
 "metadata": {
  "kernelspec": {
   "display_name": "Python 3",
   "language": "python",
   "name": "python3"
  },
  "language_info": {
   "codemirror_mode": {
    "name": "ipython",
    "version": 2
   },
   "file_extension": ".py",
   "mimetype": "text/x-python",
   "name": "python",
   "nbconvert_exporter": "python",
   "pygments_lexer": "ipython2",
   "version": "2.7.6"
  }
 },
 "nbformat": 4,
 "nbformat_minor": 0
}
